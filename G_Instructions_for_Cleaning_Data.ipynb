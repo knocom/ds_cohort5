{
 "cells": [
  {
   "cell_type": "markdown",
   "metadata": {},
   "source": [
    "## Answer/Execute the following statements:\n",
    "\n",
    "1. Load data set C_Online_Retail.xlsx as df.\n",
    "2. Are there negative quantities and prices at same register? Yes, after I applied df['Quantity'].min() and df['UnitPrice'].min there were negative numbers.\n",
    "\n",
    "3. How many registers do we have where quantity is negative and prices is 0 or vice-versa. 1336 rows where quantity is negative\n",
    "4. What is common in the invoices with negative quantity? Starts with C\n",
    "5. How many registers do we have where UnitPrice is negative? And what are their CustomerIDs? 2, no customerID\n",
    "6. Drop all the NaN in the CustomerID column.\n",
    "7. How many sales records do we have with Customer ID and zero in Unit Price?\n",
    "8. Look at the description and uniqueness of StockCode and Description by running this:"
   ]
  },
  {
   "cell_type": "code",
   "execution_count": 126,
   "metadata": {},
   "outputs": [],
   "source": [
    "#1 #load retail excel\n",
    "import numpy as np\n",
    "import pandas as pd\n",
    "from scipy.spatial import distance\n",
    "import matplotlib.pyplot as plt\n",
    "from sklearn.preprocessing import StandardScaler\n",
    "%matplotlib inline\n",
    "\n",
    "df = pd.read_excel(r'C:\\Users\\knocom\\Eskwelabs Jupyter Notebooks\\C\\C_Online_Retail.xlsx')"
   ]
  },
  {
   "cell_type": "code",
   "execution_count": 127,
   "metadata": {},
   "outputs": [
    {
     "data": {
      "text/plain": [
       "-80995"
      ]
     },
     "execution_count": 127,
     "metadata": {},
     "output_type": "execute_result"
    }
   ],
   "source": [
    "#2a\n",
    "df['Quantity'].min()"
   ]
  },
  {
   "cell_type": "code",
   "execution_count": 128,
   "metadata": {},
   "outputs": [
    {
     "data": {
      "text/plain": [
       "-11062.06"
      ]
     },
     "execution_count": 128,
     "metadata": {},
     "output_type": "execute_result"
    }
   ],
   "source": [
    "#2b\n",
    "df['UnitPrice'].min()"
   ]
  },
  {
   "cell_type": "code",
   "execution_count": 129,
   "metadata": {},
   "outputs": [
    {
     "data": {
      "text/html": [
       "<div>\n",
       "<style scoped>\n",
       "    .dataframe tbody tr th:only-of-type {\n",
       "        vertical-align: middle;\n",
       "    }\n",
       "\n",
       "    .dataframe tbody tr th {\n",
       "        vertical-align: top;\n",
       "    }\n",
       "\n",
       "    .dataframe thead th {\n",
       "        text-align: right;\n",
       "    }\n",
       "</style>\n",
       "<table border=\"1\" class=\"dataframe\">\n",
       "  <thead>\n",
       "    <tr style=\"text-align: right;\">\n",
       "      <th></th>\n",
       "      <th>InvoiceNo</th>\n",
       "      <th>StockCode</th>\n",
       "      <th>Description</th>\n",
       "      <th>Quantity</th>\n",
       "      <th>InvoiceDate</th>\n",
       "      <th>UnitPrice</th>\n",
       "      <th>CustomerID</th>\n",
       "      <th>Country</th>\n",
       "    </tr>\n",
       "  </thead>\n",
       "  <tbody>\n",
       "    <tr>\n",
       "      <th>2406</th>\n",
       "      <td>536589</td>\n",
       "      <td>21777</td>\n",
       "      <td>NaN</td>\n",
       "      <td>-10</td>\n",
       "      <td>2010-12-01 16:50:00</td>\n",
       "      <td>0.0</td>\n",
       "      <td>NaN</td>\n",
       "      <td>United Kingdom</td>\n",
       "    </tr>\n",
       "    <tr>\n",
       "      <th>4347</th>\n",
       "      <td>536764</td>\n",
       "      <td>84952C</td>\n",
       "      <td>NaN</td>\n",
       "      <td>-38</td>\n",
       "      <td>2010-12-02 14:42:00</td>\n",
       "      <td>0.0</td>\n",
       "      <td>NaN</td>\n",
       "      <td>United Kingdom</td>\n",
       "    </tr>\n",
       "    <tr>\n",
       "      <th>7188</th>\n",
       "      <td>536996</td>\n",
       "      <td>22712</td>\n",
       "      <td>NaN</td>\n",
       "      <td>-20</td>\n",
       "      <td>2010-12-03 15:30:00</td>\n",
       "      <td>0.0</td>\n",
       "      <td>NaN</td>\n",
       "      <td>United Kingdom</td>\n",
       "    </tr>\n",
       "    <tr>\n",
       "      <th>7189</th>\n",
       "      <td>536997</td>\n",
       "      <td>22028</td>\n",
       "      <td>NaN</td>\n",
       "      <td>-20</td>\n",
       "      <td>2010-12-03 15:30:00</td>\n",
       "      <td>0.0</td>\n",
       "      <td>NaN</td>\n",
       "      <td>United Kingdom</td>\n",
       "    </tr>\n",
       "    <tr>\n",
       "      <th>7190</th>\n",
       "      <td>536998</td>\n",
       "      <td>85067</td>\n",
       "      <td>NaN</td>\n",
       "      <td>-6</td>\n",
       "      <td>2010-12-03 15:30:00</td>\n",
       "      <td>0.0</td>\n",
       "      <td>NaN</td>\n",
       "      <td>United Kingdom</td>\n",
       "    </tr>\n",
       "    <tr>\n",
       "      <th>...</th>\n",
       "      <td>...</td>\n",
       "      <td>...</td>\n",
       "      <td>...</td>\n",
       "      <td>...</td>\n",
       "      <td>...</td>\n",
       "      <td>...</td>\n",
       "      <td>...</td>\n",
       "      <td>...</td>\n",
       "    </tr>\n",
       "    <tr>\n",
       "      <th>535333</th>\n",
       "      <td>581210</td>\n",
       "      <td>23395</td>\n",
       "      <td>check</td>\n",
       "      <td>-26</td>\n",
       "      <td>2011-12-07 18:36:00</td>\n",
       "      <td>0.0</td>\n",
       "      <td>NaN</td>\n",
       "      <td>United Kingdom</td>\n",
       "    </tr>\n",
       "    <tr>\n",
       "      <th>535335</th>\n",
       "      <td>581212</td>\n",
       "      <td>22578</td>\n",
       "      <td>lost</td>\n",
       "      <td>-1050</td>\n",
       "      <td>2011-12-07 18:38:00</td>\n",
       "      <td>0.0</td>\n",
       "      <td>NaN</td>\n",
       "      <td>United Kingdom</td>\n",
       "    </tr>\n",
       "    <tr>\n",
       "      <th>535336</th>\n",
       "      <td>581213</td>\n",
       "      <td>22576</td>\n",
       "      <td>check</td>\n",
       "      <td>-30</td>\n",
       "      <td>2011-12-07 18:38:00</td>\n",
       "      <td>0.0</td>\n",
       "      <td>NaN</td>\n",
       "      <td>United Kingdom</td>\n",
       "    </tr>\n",
       "    <tr>\n",
       "      <th>536908</th>\n",
       "      <td>581226</td>\n",
       "      <td>23090</td>\n",
       "      <td>missing</td>\n",
       "      <td>-338</td>\n",
       "      <td>2011-12-08 09:56:00</td>\n",
       "      <td>0.0</td>\n",
       "      <td>NaN</td>\n",
       "      <td>United Kingdom</td>\n",
       "    </tr>\n",
       "    <tr>\n",
       "      <th>538919</th>\n",
       "      <td>581422</td>\n",
       "      <td>23169</td>\n",
       "      <td>smashed</td>\n",
       "      <td>-235</td>\n",
       "      <td>2011-12-08 15:24:00</td>\n",
       "      <td>0.0</td>\n",
       "      <td>NaN</td>\n",
       "      <td>United Kingdom</td>\n",
       "    </tr>\n",
       "  </tbody>\n",
       "</table>\n",
       "<p>1336 rows × 8 columns</p>\n",
       "</div>"
      ],
      "text/plain": [
       "       InvoiceNo StockCode Description  Quantity         InvoiceDate  \\\n",
       "2406      536589     21777         NaN       -10 2010-12-01 16:50:00   \n",
       "4347      536764    84952C         NaN       -38 2010-12-02 14:42:00   \n",
       "7188      536996     22712         NaN       -20 2010-12-03 15:30:00   \n",
       "7189      536997     22028         NaN       -20 2010-12-03 15:30:00   \n",
       "7190      536998     85067         NaN        -6 2010-12-03 15:30:00   \n",
       "...          ...       ...         ...       ...                 ...   \n",
       "535333    581210     23395       check       -26 2011-12-07 18:36:00   \n",
       "535335    581212     22578        lost     -1050 2011-12-07 18:38:00   \n",
       "535336    581213     22576       check       -30 2011-12-07 18:38:00   \n",
       "536908    581226     23090     missing      -338 2011-12-08 09:56:00   \n",
       "538919    581422     23169     smashed      -235 2011-12-08 15:24:00   \n",
       "\n",
       "        UnitPrice  CustomerID         Country  \n",
       "2406          0.0         NaN  United Kingdom  \n",
       "4347          0.0         NaN  United Kingdom  \n",
       "7188          0.0         NaN  United Kingdom  \n",
       "7189          0.0         NaN  United Kingdom  \n",
       "7190          0.0         NaN  United Kingdom  \n",
       "...           ...         ...             ...  \n",
       "535333        0.0         NaN  United Kingdom  \n",
       "535335        0.0         NaN  United Kingdom  \n",
       "535336        0.0         NaN  United Kingdom  \n",
       "536908        0.0         NaN  United Kingdom  \n",
       "538919        0.0         NaN  United Kingdom  \n",
       "\n",
       "[1336 rows x 8 columns]"
      ]
     },
     "execution_count": 129,
     "metadata": {},
     "output_type": "execute_result"
    }
   ],
   "source": [
    "#3a\n",
    "df[(df['Quantity']<0) & (df['UnitPrice']==0)]\n"
   ]
  },
  {
   "cell_type": "code",
   "execution_count": 130,
   "metadata": {},
   "outputs": [
    {
     "data": {
      "text/html": [
       "<div>\n",
       "<style scoped>\n",
       "    .dataframe tbody tr th:only-of-type {\n",
       "        vertical-align: middle;\n",
       "    }\n",
       "\n",
       "    .dataframe tbody tr th {\n",
       "        vertical-align: top;\n",
       "    }\n",
       "\n",
       "    .dataframe thead th {\n",
       "        text-align: right;\n",
       "    }\n",
       "</style>\n",
       "<table border=\"1\" class=\"dataframe\">\n",
       "  <thead>\n",
       "    <tr style=\"text-align: right;\">\n",
       "      <th></th>\n",
       "      <th>InvoiceNo</th>\n",
       "      <th>StockCode</th>\n",
       "      <th>Description</th>\n",
       "      <th>Quantity</th>\n",
       "      <th>InvoiceDate</th>\n",
       "      <th>UnitPrice</th>\n",
       "      <th>CustomerID</th>\n",
       "      <th>Country</th>\n",
       "    </tr>\n",
       "  </thead>\n",
       "  <tbody>\n",
       "  </tbody>\n",
       "</table>\n",
       "</div>"
      ],
      "text/plain": [
       "Empty DataFrame\n",
       "Columns: [InvoiceNo, StockCode, Description, Quantity, InvoiceDate, UnitPrice, CustomerID, Country]\n",
       "Index: []"
      ]
     },
     "execution_count": 130,
     "metadata": {},
     "output_type": "execute_result"
    }
   ],
   "source": [
    "#3b\n",
    "df[(df['Quantity']==0) & (df['UnitPrice']<0)]"
   ]
  },
  {
   "cell_type": "code",
   "execution_count": 131,
   "metadata": {},
   "outputs": [
    {
     "data": {
      "text/html": [
       "<div>\n",
       "<style scoped>\n",
       "    .dataframe tbody tr th:only-of-type {\n",
       "        vertical-align: middle;\n",
       "    }\n",
       "\n",
       "    .dataframe tbody tr th {\n",
       "        vertical-align: top;\n",
       "    }\n",
       "\n",
       "    .dataframe thead th {\n",
       "        text-align: right;\n",
       "    }\n",
       "</style>\n",
       "<table border=\"1\" class=\"dataframe\">\n",
       "  <thead>\n",
       "    <tr style=\"text-align: right;\">\n",
       "      <th></th>\n",
       "      <th>InvoiceNo</th>\n",
       "      <th>StockCode</th>\n",
       "      <th>Description</th>\n",
       "      <th>Quantity</th>\n",
       "      <th>InvoiceDate</th>\n",
       "      <th>UnitPrice</th>\n",
       "      <th>CustomerID</th>\n",
       "      <th>Country</th>\n",
       "    </tr>\n",
       "  </thead>\n",
       "  <tbody>\n",
       "    <tr>\n",
       "      <th>141</th>\n",
       "      <td>C536379</td>\n",
       "      <td>D</td>\n",
       "      <td>Discount</td>\n",
       "      <td>-1</td>\n",
       "      <td>2010-12-01 09:41:00</td>\n",
       "      <td>27.50</td>\n",
       "      <td>14527.0</td>\n",
       "      <td>United Kingdom</td>\n",
       "    </tr>\n",
       "    <tr>\n",
       "      <th>154</th>\n",
       "      <td>C536383</td>\n",
       "      <td>35004C</td>\n",
       "      <td>SET OF 3 COLOURED  FLYING DUCKS</td>\n",
       "      <td>-1</td>\n",
       "      <td>2010-12-01 09:49:00</td>\n",
       "      <td>4.65</td>\n",
       "      <td>15311.0</td>\n",
       "      <td>United Kingdom</td>\n",
       "    </tr>\n",
       "    <tr>\n",
       "      <th>235</th>\n",
       "      <td>C536391</td>\n",
       "      <td>22556</td>\n",
       "      <td>PLASTERS IN TIN CIRCUS PARADE</td>\n",
       "      <td>-12</td>\n",
       "      <td>2010-12-01 10:24:00</td>\n",
       "      <td>1.65</td>\n",
       "      <td>17548.0</td>\n",
       "      <td>United Kingdom</td>\n",
       "    </tr>\n",
       "    <tr>\n",
       "      <th>236</th>\n",
       "      <td>C536391</td>\n",
       "      <td>21984</td>\n",
       "      <td>PACK OF 12 PINK PAISLEY TISSUES</td>\n",
       "      <td>-24</td>\n",
       "      <td>2010-12-01 10:24:00</td>\n",
       "      <td>0.29</td>\n",
       "      <td>17548.0</td>\n",
       "      <td>United Kingdom</td>\n",
       "    </tr>\n",
       "    <tr>\n",
       "      <th>237</th>\n",
       "      <td>C536391</td>\n",
       "      <td>21983</td>\n",
       "      <td>PACK OF 12 BLUE PAISLEY TISSUES</td>\n",
       "      <td>-24</td>\n",
       "      <td>2010-12-01 10:24:00</td>\n",
       "      <td>0.29</td>\n",
       "      <td>17548.0</td>\n",
       "      <td>United Kingdom</td>\n",
       "    </tr>\n",
       "    <tr>\n",
       "      <th>...</th>\n",
       "      <td>...</td>\n",
       "      <td>...</td>\n",
       "      <td>...</td>\n",
       "      <td>...</td>\n",
       "      <td>...</td>\n",
       "      <td>...</td>\n",
       "      <td>...</td>\n",
       "      <td>...</td>\n",
       "    </tr>\n",
       "    <tr>\n",
       "      <th>540449</th>\n",
       "      <td>C581490</td>\n",
       "      <td>23144</td>\n",
       "      <td>ZINC T-LIGHT HOLDER STARS SMALL</td>\n",
       "      <td>-11</td>\n",
       "      <td>2011-12-09 09:57:00</td>\n",
       "      <td>0.83</td>\n",
       "      <td>14397.0</td>\n",
       "      <td>United Kingdom</td>\n",
       "    </tr>\n",
       "    <tr>\n",
       "      <th>541541</th>\n",
       "      <td>C581499</td>\n",
       "      <td>M</td>\n",
       "      <td>Manual</td>\n",
       "      <td>-1</td>\n",
       "      <td>2011-12-09 10:28:00</td>\n",
       "      <td>224.69</td>\n",
       "      <td>15498.0</td>\n",
       "      <td>United Kingdom</td>\n",
       "    </tr>\n",
       "    <tr>\n",
       "      <th>541715</th>\n",
       "      <td>C581568</td>\n",
       "      <td>21258</td>\n",
       "      <td>VICTORIAN SEWING BOX LARGE</td>\n",
       "      <td>-5</td>\n",
       "      <td>2011-12-09 11:57:00</td>\n",
       "      <td>10.95</td>\n",
       "      <td>15311.0</td>\n",
       "      <td>United Kingdom</td>\n",
       "    </tr>\n",
       "    <tr>\n",
       "      <th>541716</th>\n",
       "      <td>C581569</td>\n",
       "      <td>84978</td>\n",
       "      <td>HANGING HEART JAR T-LIGHT HOLDER</td>\n",
       "      <td>-1</td>\n",
       "      <td>2011-12-09 11:58:00</td>\n",
       "      <td>1.25</td>\n",
       "      <td>17315.0</td>\n",
       "      <td>United Kingdom</td>\n",
       "    </tr>\n",
       "    <tr>\n",
       "      <th>541717</th>\n",
       "      <td>C581569</td>\n",
       "      <td>20979</td>\n",
       "      <td>36 PENCILS TUBE RED RETROSPOT</td>\n",
       "      <td>-5</td>\n",
       "      <td>2011-12-09 11:58:00</td>\n",
       "      <td>1.25</td>\n",
       "      <td>17315.0</td>\n",
       "      <td>United Kingdom</td>\n",
       "    </tr>\n",
       "  </tbody>\n",
       "</table>\n",
       "<p>10624 rows × 8 columns</p>\n",
       "</div>"
      ],
      "text/plain": [
       "       InvoiceNo StockCode                       Description  Quantity  \\\n",
       "141      C536379         D                          Discount        -1   \n",
       "154      C536383    35004C   SET OF 3 COLOURED  FLYING DUCKS        -1   \n",
       "235      C536391     22556    PLASTERS IN TIN CIRCUS PARADE        -12   \n",
       "236      C536391     21984  PACK OF 12 PINK PAISLEY TISSUES        -24   \n",
       "237      C536391     21983  PACK OF 12 BLUE PAISLEY TISSUES        -24   \n",
       "...          ...       ...                               ...       ...   \n",
       "540449   C581490     23144   ZINC T-LIGHT HOLDER STARS SMALL       -11   \n",
       "541541   C581499         M                            Manual        -1   \n",
       "541715   C581568     21258        VICTORIAN SEWING BOX LARGE        -5   \n",
       "541716   C581569     84978  HANGING HEART JAR T-LIGHT HOLDER        -1   \n",
       "541717   C581569     20979     36 PENCILS TUBE RED RETROSPOT        -5   \n",
       "\n",
       "               InvoiceDate  UnitPrice  CustomerID         Country  \n",
       "141    2010-12-01 09:41:00      27.50     14527.0  United Kingdom  \n",
       "154    2010-12-01 09:49:00       4.65     15311.0  United Kingdom  \n",
       "235    2010-12-01 10:24:00       1.65     17548.0  United Kingdom  \n",
       "236    2010-12-01 10:24:00       0.29     17548.0  United Kingdom  \n",
       "237    2010-12-01 10:24:00       0.29     17548.0  United Kingdom  \n",
       "...                    ...        ...         ...             ...  \n",
       "540449 2011-12-09 09:57:00       0.83     14397.0  United Kingdom  \n",
       "541541 2011-12-09 10:28:00     224.69     15498.0  United Kingdom  \n",
       "541715 2011-12-09 11:57:00      10.95     15311.0  United Kingdom  \n",
       "541716 2011-12-09 11:58:00       1.25     17315.0  United Kingdom  \n",
       "541717 2011-12-09 11:58:00       1.25     17315.0  United Kingdom  \n",
       "\n",
       "[10624 rows x 8 columns]"
      ]
     },
     "execution_count": 131,
     "metadata": {},
     "output_type": "execute_result"
    }
   ],
   "source": [
    "#4\n",
    "df[(df['Quantity']<0)]"
   ]
  },
  {
   "cell_type": "code",
   "execution_count": 132,
   "metadata": {},
   "outputs": [
    {
     "data": {
      "text/html": [
       "<div>\n",
       "<style scoped>\n",
       "    .dataframe tbody tr th:only-of-type {\n",
       "        vertical-align: middle;\n",
       "    }\n",
       "\n",
       "    .dataframe tbody tr th {\n",
       "        vertical-align: top;\n",
       "    }\n",
       "\n",
       "    .dataframe thead th {\n",
       "        text-align: right;\n",
       "    }\n",
       "</style>\n",
       "<table border=\"1\" class=\"dataframe\">\n",
       "  <thead>\n",
       "    <tr style=\"text-align: right;\">\n",
       "      <th></th>\n",
       "      <th>InvoiceNo</th>\n",
       "      <th>StockCode</th>\n",
       "      <th>Description</th>\n",
       "      <th>Quantity</th>\n",
       "      <th>InvoiceDate</th>\n",
       "      <th>UnitPrice</th>\n",
       "      <th>CustomerID</th>\n",
       "      <th>Country</th>\n",
       "    </tr>\n",
       "  </thead>\n",
       "  <tbody>\n",
       "    <tr>\n",
       "      <th>299983</th>\n",
       "      <td>A563186</td>\n",
       "      <td>B</td>\n",
       "      <td>Adjust bad debt</td>\n",
       "      <td>1</td>\n",
       "      <td>2011-08-12 14:51:00</td>\n",
       "      <td>-11062.06</td>\n",
       "      <td>NaN</td>\n",
       "      <td>United Kingdom</td>\n",
       "    </tr>\n",
       "    <tr>\n",
       "      <th>299984</th>\n",
       "      <td>A563187</td>\n",
       "      <td>B</td>\n",
       "      <td>Adjust bad debt</td>\n",
       "      <td>1</td>\n",
       "      <td>2011-08-12 14:52:00</td>\n",
       "      <td>-11062.06</td>\n",
       "      <td>NaN</td>\n",
       "      <td>United Kingdom</td>\n",
       "    </tr>\n",
       "  </tbody>\n",
       "</table>\n",
       "</div>"
      ],
      "text/plain": [
       "       InvoiceNo StockCode      Description  Quantity         InvoiceDate  \\\n",
       "299983   A563186         B  Adjust bad debt         1 2011-08-12 14:51:00   \n",
       "299984   A563187         B  Adjust bad debt         1 2011-08-12 14:52:00   \n",
       "\n",
       "        UnitPrice  CustomerID         Country  \n",
       "299983  -11062.06         NaN  United Kingdom  \n",
       "299984  -11062.06         NaN  United Kingdom  "
      ]
     },
     "execution_count": 132,
     "metadata": {},
     "output_type": "execute_result"
    }
   ],
   "source": [
    "#5\n",
    "df[(df['UnitPrice']<0)]"
   ]
  },
  {
   "cell_type": "code",
   "execution_count": 60,
   "metadata": {},
   "outputs": [],
   "source": [
    "#6\n",
    "df = df.dropna(subset= ['CustomerID'])\n",
    "#np.sum(df['CustomerID'].isnull()) verify how many customerIDs were null"
   ]
  },
  {
   "cell_type": "code",
   "execution_count": 133,
   "metadata": {},
   "outputs": [],
   "source": [
    "df = df[(drop_df['Quantity']>=0)&(df['UnitPrice']>=0)]"
   ]
  },
  {
   "cell_type": "code",
   "execution_count": 134,
   "metadata": {},
   "outputs": [
    {
     "data": {
      "text/plain": [
       "(397924, 8)"
      ]
     },
     "execution_count": 134,
     "metadata": {},
     "output_type": "execute_result"
    }
   ],
   "source": [
    "df.shape"
   ]
  },
  {
   "cell_type": "code",
   "execution_count": 135,
   "metadata": {},
   "outputs": [
    {
     "data": {
      "text/html": [
       "<div>\n",
       "<style scoped>\n",
       "    .dataframe tbody tr th:only-of-type {\n",
       "        vertical-align: middle;\n",
       "    }\n",
       "\n",
       "    .dataframe tbody tr th {\n",
       "        vertical-align: top;\n",
       "    }\n",
       "\n",
       "    .dataframe thead th {\n",
       "        text-align: right;\n",
       "    }\n",
       "</style>\n",
       "<table border=\"1\" class=\"dataframe\">\n",
       "  <thead>\n",
       "    <tr style=\"text-align: right;\">\n",
       "      <th></th>\n",
       "      <th>InvoiceNo</th>\n",
       "      <th>StockCode</th>\n",
       "      <th>Description</th>\n",
       "      <th>Quantity</th>\n",
       "      <th>InvoiceDate</th>\n",
       "      <th>UnitPrice</th>\n",
       "      <th>CustomerID</th>\n",
       "      <th>Country</th>\n",
       "    </tr>\n",
       "  </thead>\n",
       "  <tbody>\n",
       "  </tbody>\n",
       "</table>\n",
       "</div>"
      ],
      "text/plain": [
       "Empty DataFrame\n",
       "Columns: [InvoiceNo, StockCode, Description, Quantity, InvoiceDate, UnitPrice, CustomerID, Country]\n",
       "Index: []"
      ]
     },
     "execution_count": 135,
     "metadata": {},
     "output_type": "execute_result"
    }
   ],
   "source": [
    "#7\n",
    "df[(df['UnitPrice']==0)]\n",
    "df[(df['Quantity']<0)]"
   ]
  },
  {
   "cell_type": "code",
   "execution_count": null,
   "metadata": {},
   "outputs": [],
   "source": [
    "#8"
   ]
  },
  {
   "cell_type": "code",
   "execution_count": 136,
   "metadata": {},
   "outputs": [
    {
     "data": {
      "text/plain": [
       "array(['WRAP DOILEY DESIGN', 'WRAP  VINTAGE DOILEY ',\n",
       "       'WRAP  VINTAGE DOILY '], dtype=object)"
      ]
     },
     "execution_count": 136,
     "metadata": {},
     "output_type": "execute_result"
    }
   ],
   "source": [
    "cat_des_df = df.groupby([\"StockCode\",\"Description\"]).count().reset_index()\n",
    "df[df['StockCode'] == cat_des_df.StockCode.value_counts()[cat_des_df.StockCode.value_counts()>1]\n",
    "      .reset_index()['index'][4]]['Description'].unique()"
   ]
  },
  {
   "cell_type": "markdown",
   "metadata": {},
   "source": [
    "9. What can you say about the uniqueness of the Description per StockCode? There are 2 Vintage Doileys\n",
    "10. Run this code to make a table of unique Description per StockCode:"
   ]
  },
  {
   "cell_type": "code",
   "execution_count": null,
   "metadata": {},
   "outputs": [],
   "source": [
    "#9  There are 2 Vintage Doileys"
   ]
  },
  {
   "cell_type": "code",
   "execution_count": 137,
   "metadata": {},
   "outputs": [],
   "source": [
    "#10\n",
    "unique_desc = df[[\"StockCode\", \"Description\"]].groupby(by=[\"StockCode\"]).\\\n",
    "                apply(pd.DataFrame.mode).reset_index(drop=True)"
   ]
  },
  {
   "cell_type": "markdown",
   "metadata": {},
   "source": [
    "11. We will merge `unique_desc` with `df` to get the value of other columns using an SQL wrapper `pandassql`. To install, run:"
   ]
  },
  {
   "cell_type": "code",
   "execution_count": 138,
   "metadata": {},
   "outputs": [
    {
     "name": "stdout",
     "output_type": "stream",
     "text": [
      "Requirement already satisfied: pandasql in c:\\users\\knocom\\anaconda3\\lib\\site-packages (0.7.3)\n",
      "Requirement already satisfied: pandas in c:\\users\\knocom\\anaconda3\\lib\\site-packages (from pandasql) (1.0.5)\n",
      "Requirement already satisfied: sqlalchemy in c:\\users\\knocom\\anaconda3\\lib\\site-packages (from pandasql) (1.3.18)\n",
      "Requirement already satisfied: numpy in c:\\users\\knocom\\anaconda3\\lib\\site-packages (from pandasql) (1.18.5)\n",
      "Requirement already satisfied: pytz>=2017.2 in c:\\users\\knocom\\anaconda3\\lib\\site-packages (from pandas->pandasql) (2020.1)\n",
      "Requirement already satisfied: python-dateutil>=2.6.1 in c:\\users\\knocom\\anaconda3\\lib\\site-packages (from pandas->pandasql) (2.8.1)\n",
      "Requirement already satisfied: six>=1.5 in c:\\users\\knocom\\anaconda3\\lib\\site-packages (from python-dateutil>=2.6.1->pandas->pandasql) (1.15.0)\n"
     ]
    }
   ],
   "source": [
    "#11\n",
    "!pip install pandasql"
   ]
  },
  {
   "cell_type": "markdown",
   "metadata": {},
   "source": [
    "12. Import the associated libraries and run the query:"
   ]
  },
  {
   "cell_type": "code",
   "execution_count": 139,
   "metadata": {},
   "outputs": [],
   "source": [
    "#12\n",
    "from pandasql import sqldf\n",
    "\n",
    "pysqldf = lambda q: sqldf(q, globals())\n",
    "new_df = pd.DataFrame(pysqldf(\n",
    "    \"\"\"select df.InvoiceNo, \n",
    "        df.StockCode, \n",
    "        un.Description, \n",
    "        df.Quantity, \n",
    "        df.InvoiceDate,\n",
    "        df.UnitPrice, \n",
    "        df.CustomerID, \n",
    "        df.Country \n",
    "    from df as df \n",
    "        INNER JOIN unique_desc as un on df.StockCode = un.StockCode\n",
    "        \"\"\"))"
   ]
  },
  {
   "cell_type": "markdown",
   "metadata": {},
   "source": [
    "13. What is the dimensions of the `new_df`? 397884 rows , 8 col\n",
    "14. Convert `InvoiceDate` column to datetime.\n",
    "15. Make a new column `Amount` by multiplying Quantity and UnitPrice.\n",
    "16. Convert `CustomerID` to integer.\n",
    "17. Make a barplot of the Amount of Sales per Country (don't forget the titles and labels).\n",
    "18. How many percent is from UK and oustide of UK.\n",
    "19. Who are the top 10 customers and what is their contribution (%) in sales and in quantity?\n",
    "17.26% of Sales are from the Top 10 Customers\n",
    "CustomerID\n",
    "14646    280206.02\n",
    "18102    259657.30\n",
    "17450    194550.79\n",
    "16446    168472.50\n",
    "14911    143825.06\n",
    "12415    124914.53\n",
    "14156    117379.63\n",
    "17511     91062.38\n",
    "16029     81024.84\n",
    "12346     77183.60\n",
    "20. What are the top 10 products and what is their contribution (%) in sales and in quantity? \n",
    "9.95% of Sales are from the Top 10 Products\n",
    "PAPER CRAFT , LITTLE BIRDIE           168469.60\n",
    "REGENCY CAKESTAND 3 TIER              142592.95\n",
    "WHITE HANGING HEART T-LIGHT HOLDER    100603.50\n",
    "JUMBO BAG RED RETROSPOT                85220.78\n",
    "MEDIUM CERAMIC TOP STORAGE JAR         81416.73\n",
    "POSTAGE                                77803.96\n",
    "PARTY BUNTING                          68844.33\n",
    "ASSORTED COLOUR BIRD ORNAMENT          56580.34\n",
    "Manual                                 53779.93\n",
    "RABBIT NIGHT LIGHT                     51346.20"
   ]
  },
  {
   "cell_type": "code",
   "execution_count": 140,
   "metadata": {},
   "outputs": [
    {
     "data": {
      "text/plain": [
       "(397924, 8)"
      ]
     },
     "execution_count": 140,
     "metadata": {},
     "output_type": "execute_result"
    }
   ],
   "source": [
    "#13 \n",
    "new_df.shape"
   ]
  },
  {
   "cell_type": "code",
   "execution_count": 141,
   "metadata": {},
   "outputs": [],
   "source": [
    "#14\n",
    "new_df['InvoiceDate'] = pd.to_datetime(new_df['InvoiceDate'])"
   ]
  },
  {
   "cell_type": "code",
   "execution_count": 142,
   "metadata": {},
   "outputs": [
    {
     "data": {
      "text/plain": [
       "InvoiceNo               int64\n",
       "StockCode              object\n",
       "Description            object\n",
       "Quantity                int64\n",
       "InvoiceDate    datetime64[ns]\n",
       "UnitPrice             float64\n",
       "CustomerID            float64\n",
       "Country                object\n",
       "dtype: object"
      ]
     },
     "execution_count": 142,
     "metadata": {},
     "output_type": "execute_result"
    }
   ],
   "source": [
    "new_df.dtypes"
   ]
  },
  {
   "cell_type": "code",
   "execution_count": 143,
   "metadata": {},
   "outputs": [
    {
     "data": {
      "text/html": [
       "<div>\n",
       "<style scoped>\n",
       "    .dataframe tbody tr th:only-of-type {\n",
       "        vertical-align: middle;\n",
       "    }\n",
       "\n",
       "    .dataframe tbody tr th {\n",
       "        vertical-align: top;\n",
       "    }\n",
       "\n",
       "    .dataframe thead th {\n",
       "        text-align: right;\n",
       "    }\n",
       "</style>\n",
       "<table border=\"1\" class=\"dataframe\">\n",
       "  <thead>\n",
       "    <tr style=\"text-align: right;\">\n",
       "      <th></th>\n",
       "      <th>InvoiceNo</th>\n",
       "      <th>StockCode</th>\n",
       "      <th>Description</th>\n",
       "      <th>Quantity</th>\n",
       "      <th>InvoiceDate</th>\n",
       "      <th>UnitPrice</th>\n",
       "      <th>CustomerID</th>\n",
       "      <th>Country</th>\n",
       "      <th>Amount</th>\n",
       "    </tr>\n",
       "  </thead>\n",
       "  <tbody>\n",
       "    <tr>\n",
       "      <th>0</th>\n",
       "      <td>536365</td>\n",
       "      <td>85123A</td>\n",
       "      <td>WHITE HANGING HEART T-LIGHT HOLDER</td>\n",
       "      <td>6</td>\n",
       "      <td>2010-12-01 08:26:00</td>\n",
       "      <td>2.55</td>\n",
       "      <td>17850.0</td>\n",
       "      <td>United Kingdom</td>\n",
       "      <td>15.30</td>\n",
       "    </tr>\n",
       "    <tr>\n",
       "      <th>1</th>\n",
       "      <td>536365</td>\n",
       "      <td>71053</td>\n",
       "      <td>WHITE METAL LANTERN</td>\n",
       "      <td>6</td>\n",
       "      <td>2010-12-01 08:26:00</td>\n",
       "      <td>3.39</td>\n",
       "      <td>17850.0</td>\n",
       "      <td>United Kingdom</td>\n",
       "      <td>20.34</td>\n",
       "    </tr>\n",
       "    <tr>\n",
       "      <th>2</th>\n",
       "      <td>536365</td>\n",
       "      <td>84406B</td>\n",
       "      <td>CREAM CUPID HEARTS COAT HANGER</td>\n",
       "      <td>8</td>\n",
       "      <td>2010-12-01 08:26:00</td>\n",
       "      <td>2.75</td>\n",
       "      <td>17850.0</td>\n",
       "      <td>United Kingdom</td>\n",
       "      <td>22.00</td>\n",
       "    </tr>\n",
       "    <tr>\n",
       "      <th>3</th>\n",
       "      <td>536365</td>\n",
       "      <td>84029G</td>\n",
       "      <td>KNITTED UNION FLAG HOT WATER BOTTLE</td>\n",
       "      <td>6</td>\n",
       "      <td>2010-12-01 08:26:00</td>\n",
       "      <td>3.39</td>\n",
       "      <td>17850.0</td>\n",
       "      <td>United Kingdom</td>\n",
       "      <td>20.34</td>\n",
       "    </tr>\n",
       "    <tr>\n",
       "      <th>4</th>\n",
       "      <td>536365</td>\n",
       "      <td>84029E</td>\n",
       "      <td>RED WOOLLY HOTTIE WHITE HEART.</td>\n",
       "      <td>6</td>\n",
       "      <td>2010-12-01 08:26:00</td>\n",
       "      <td>3.39</td>\n",
       "      <td>17850.0</td>\n",
       "      <td>United Kingdom</td>\n",
       "      <td>20.34</td>\n",
       "    </tr>\n",
       "    <tr>\n",
       "      <th>...</th>\n",
       "      <td>...</td>\n",
       "      <td>...</td>\n",
       "      <td>...</td>\n",
       "      <td>...</td>\n",
       "      <td>...</td>\n",
       "      <td>...</td>\n",
       "      <td>...</td>\n",
       "      <td>...</td>\n",
       "      <td>...</td>\n",
       "    </tr>\n",
       "    <tr>\n",
       "      <th>397919</th>\n",
       "      <td>581587</td>\n",
       "      <td>22613</td>\n",
       "      <td>PACK OF 20 SPACEBOY NAPKINS</td>\n",
       "      <td>12</td>\n",
       "      <td>2011-12-09 12:50:00</td>\n",
       "      <td>0.85</td>\n",
       "      <td>12680.0</td>\n",
       "      <td>France</td>\n",
       "      <td>10.20</td>\n",
       "    </tr>\n",
       "    <tr>\n",
       "      <th>397920</th>\n",
       "      <td>581587</td>\n",
       "      <td>22899</td>\n",
       "      <td>CHILDREN'S APRON DOLLY GIRL</td>\n",
       "      <td>6</td>\n",
       "      <td>2011-12-09 12:50:00</td>\n",
       "      <td>2.10</td>\n",
       "      <td>12680.0</td>\n",
       "      <td>France</td>\n",
       "      <td>12.60</td>\n",
       "    </tr>\n",
       "    <tr>\n",
       "      <th>397921</th>\n",
       "      <td>581587</td>\n",
       "      <td>23254</td>\n",
       "      <td>CHILDRENS CUTLERY DOLLY GIRL</td>\n",
       "      <td>4</td>\n",
       "      <td>2011-12-09 12:50:00</td>\n",
       "      <td>4.15</td>\n",
       "      <td>12680.0</td>\n",
       "      <td>France</td>\n",
       "      <td>16.60</td>\n",
       "    </tr>\n",
       "    <tr>\n",
       "      <th>397922</th>\n",
       "      <td>581587</td>\n",
       "      <td>23255</td>\n",
       "      <td>CHILDRENS CUTLERY CIRCUS PARADE</td>\n",
       "      <td>4</td>\n",
       "      <td>2011-12-09 12:50:00</td>\n",
       "      <td>4.15</td>\n",
       "      <td>12680.0</td>\n",
       "      <td>France</td>\n",
       "      <td>16.60</td>\n",
       "    </tr>\n",
       "    <tr>\n",
       "      <th>397923</th>\n",
       "      <td>581587</td>\n",
       "      <td>22138</td>\n",
       "      <td>BAKING SET 9 PIECE RETROSPOT</td>\n",
       "      <td>3</td>\n",
       "      <td>2011-12-09 12:50:00</td>\n",
       "      <td>4.95</td>\n",
       "      <td>12680.0</td>\n",
       "      <td>France</td>\n",
       "      <td>14.85</td>\n",
       "    </tr>\n",
       "  </tbody>\n",
       "</table>\n",
       "<p>397924 rows × 9 columns</p>\n",
       "</div>"
      ],
      "text/plain": [
       "        InvoiceNo StockCode                          Description  Quantity  \\\n",
       "0          536365    85123A   WHITE HANGING HEART T-LIGHT HOLDER         6   \n",
       "1          536365     71053                  WHITE METAL LANTERN         6   \n",
       "2          536365    84406B       CREAM CUPID HEARTS COAT HANGER         8   \n",
       "3          536365    84029G  KNITTED UNION FLAG HOT WATER BOTTLE         6   \n",
       "4          536365    84029E       RED WOOLLY HOTTIE WHITE HEART.         6   \n",
       "...           ...       ...                                  ...       ...   \n",
       "397919     581587     22613          PACK OF 20 SPACEBOY NAPKINS        12   \n",
       "397920     581587     22899         CHILDREN'S APRON DOLLY GIRL          6   \n",
       "397921     581587     23254        CHILDRENS CUTLERY DOLLY GIRL          4   \n",
       "397922     581587     23255      CHILDRENS CUTLERY CIRCUS PARADE         4   \n",
       "397923     581587     22138        BAKING SET 9 PIECE RETROSPOT          3   \n",
       "\n",
       "               InvoiceDate  UnitPrice  CustomerID         Country  Amount  \n",
       "0      2010-12-01 08:26:00       2.55     17850.0  United Kingdom   15.30  \n",
       "1      2010-12-01 08:26:00       3.39     17850.0  United Kingdom   20.34  \n",
       "2      2010-12-01 08:26:00       2.75     17850.0  United Kingdom   22.00  \n",
       "3      2010-12-01 08:26:00       3.39     17850.0  United Kingdom   20.34  \n",
       "4      2010-12-01 08:26:00       3.39     17850.0  United Kingdom   20.34  \n",
       "...                    ...        ...         ...             ...     ...  \n",
       "397919 2011-12-09 12:50:00       0.85     12680.0          France   10.20  \n",
       "397920 2011-12-09 12:50:00       2.10     12680.0          France   12.60  \n",
       "397921 2011-12-09 12:50:00       4.15     12680.0          France   16.60  \n",
       "397922 2011-12-09 12:50:00       4.15     12680.0          France   16.60  \n",
       "397923 2011-12-09 12:50:00       4.95     12680.0          France   14.85  \n",
       "\n",
       "[397924 rows x 9 columns]"
      ]
     },
     "execution_count": 143,
     "metadata": {},
     "output_type": "execute_result"
    }
   ],
   "source": [
    "#15 \n",
    "new_df['Amount'] = new_df['Quantity'] * new_df['UnitPrice']\n",
    "new_df"
   ]
  },
  {
   "cell_type": "code",
   "execution_count": 144,
   "metadata": {},
   "outputs": [
    {
     "data": {
      "text/plain": [
       "InvoiceNo               int64\n",
       "StockCode              object\n",
       "Description            object\n",
       "Quantity                int64\n",
       "InvoiceDate    datetime64[ns]\n",
       "UnitPrice             float64\n",
       "CustomerID              int64\n",
       "Country                object\n",
       "Amount                float64\n",
       "dtype: object"
      ]
     },
     "execution_count": 144,
     "metadata": {},
     "output_type": "execute_result"
    }
   ],
   "source": [
    "#16\n",
    "new_df['CustomerID'] = new_df['CustomerID'].astype('int64', copy=False)\n",
    "new_df.dtypes"
   ]
  },
  {
   "cell_type": "code",
   "execution_count": 145,
   "metadata": {},
   "outputs": [
    {
     "data": {
      "text/plain": [
       "<matplotlib.axes._subplots.AxesSubplot at 0x1ccd15890d0>"
      ]
     },
     "execution_count": 145,
     "metadata": {},
     "output_type": "execute_result"
    },
    {
     "data": {
      "image/png": "[encoded data removed]",
      "text/plain": [
       "<Figure size 432x288 with 1 Axes>"
      ]
     },
     "metadata": {
      "needs_background": "light"
     },
     "output_type": "display_data"
    }
   ],
   "source": [
    "#17\n",
    "new_df.groupby('Country')['Amount'].sum().sort_values(ascending = False).plot(kind='bar')"
   ]
  },
  {
   "cell_type": "code",
   "execution_count": 146,
   "metadata": {},
   "outputs": [
    {
     "data": {
      "text/html": [
       "<div>\n",
       "<style scoped>\n",
       "    .dataframe tbody tr th:only-of-type {\n",
       "        vertical-align: middle;\n",
       "    }\n",
       "\n",
       "    .dataframe tbody tr th {\n",
       "        vertical-align: top;\n",
       "    }\n",
       "\n",
       "    .dataframe thead th {\n",
       "        text-align: right;\n",
       "    }\n",
       "</style>\n",
       "<table border=\"1\" class=\"dataframe\">\n",
       "  <thead>\n",
       "    <tr style=\"text-align: right;\">\n",
       "      <th></th>\n",
       "      <th>InvoiceNo</th>\n",
       "      <th>StockCode</th>\n",
       "      <th>Description</th>\n",
       "      <th>Quantity</th>\n",
       "      <th>InvoiceDate</th>\n",
       "      <th>UnitPrice</th>\n",
       "      <th>CustomerID</th>\n",
       "      <th>Country</th>\n",
       "      <th>Amount</th>\n",
       "    </tr>\n",
       "  </thead>\n",
       "  <tbody>\n",
       "    <tr>\n",
       "      <th>0</th>\n",
       "      <td>536365</td>\n",
       "      <td>85123A</td>\n",
       "      <td>WHITE HANGING HEART T-LIGHT HOLDER</td>\n",
       "      <td>6</td>\n",
       "      <td>2010-12-01 08:26:00</td>\n",
       "      <td>2.55</td>\n",
       "      <td>17850</td>\n",
       "      <td>United Kingdom</td>\n",
       "      <td>15.30</td>\n",
       "    </tr>\n",
       "    <tr>\n",
       "      <th>1</th>\n",
       "      <td>536365</td>\n",
       "      <td>71053</td>\n",
       "      <td>WHITE METAL LANTERN</td>\n",
       "      <td>6</td>\n",
       "      <td>2010-12-01 08:26:00</td>\n",
       "      <td>3.39</td>\n",
       "      <td>17850</td>\n",
       "      <td>United Kingdom</td>\n",
       "      <td>20.34</td>\n",
       "    </tr>\n",
       "    <tr>\n",
       "      <th>2</th>\n",
       "      <td>536365</td>\n",
       "      <td>84406B</td>\n",
       "      <td>CREAM CUPID HEARTS COAT HANGER</td>\n",
       "      <td>8</td>\n",
       "      <td>2010-12-01 08:26:00</td>\n",
       "      <td>2.75</td>\n",
       "      <td>17850</td>\n",
       "      <td>United Kingdom</td>\n",
       "      <td>22.00</td>\n",
       "    </tr>\n",
       "    <tr>\n",
       "      <th>3</th>\n",
       "      <td>536365</td>\n",
       "      <td>84029G</td>\n",
       "      <td>KNITTED UNION FLAG HOT WATER BOTTLE</td>\n",
       "      <td>6</td>\n",
       "      <td>2010-12-01 08:26:00</td>\n",
       "      <td>3.39</td>\n",
       "      <td>17850</td>\n",
       "      <td>United Kingdom</td>\n",
       "      <td>20.34</td>\n",
       "    </tr>\n",
       "    <tr>\n",
       "      <th>4</th>\n",
       "      <td>536365</td>\n",
       "      <td>84029E</td>\n",
       "      <td>RED WOOLLY HOTTIE WHITE HEART.</td>\n",
       "      <td>6</td>\n",
       "      <td>2010-12-01 08:26:00</td>\n",
       "      <td>3.39</td>\n",
       "      <td>17850</td>\n",
       "      <td>United Kingdom</td>\n",
       "      <td>20.34</td>\n",
       "    </tr>\n",
       "    <tr>\n",
       "      <th>...</th>\n",
       "      <td>...</td>\n",
       "      <td>...</td>\n",
       "      <td>...</td>\n",
       "      <td>...</td>\n",
       "      <td>...</td>\n",
       "      <td>...</td>\n",
       "      <td>...</td>\n",
       "      <td>...</td>\n",
       "      <td>...</td>\n",
       "    </tr>\n",
       "    <tr>\n",
       "      <th>397919</th>\n",
       "      <td>581587</td>\n",
       "      <td>22613</td>\n",
       "      <td>PACK OF 20 SPACEBOY NAPKINS</td>\n",
       "      <td>12</td>\n",
       "      <td>2011-12-09 12:50:00</td>\n",
       "      <td>0.85</td>\n",
       "      <td>12680</td>\n",
       "      <td>France</td>\n",
       "      <td>10.20</td>\n",
       "    </tr>\n",
       "    <tr>\n",
       "      <th>397920</th>\n",
       "      <td>581587</td>\n",
       "      <td>22899</td>\n",
       "      <td>CHILDREN'S APRON DOLLY GIRL</td>\n",
       "      <td>6</td>\n",
       "      <td>2011-12-09 12:50:00</td>\n",
       "      <td>2.10</td>\n",
       "      <td>12680</td>\n",
       "      <td>France</td>\n",
       "      <td>12.60</td>\n",
       "    </tr>\n",
       "    <tr>\n",
       "      <th>397921</th>\n",
       "      <td>581587</td>\n",
       "      <td>23254</td>\n",
       "      <td>CHILDRENS CUTLERY DOLLY GIRL</td>\n",
       "      <td>4</td>\n",
       "      <td>2011-12-09 12:50:00</td>\n",
       "      <td>4.15</td>\n",
       "      <td>12680</td>\n",
       "      <td>France</td>\n",
       "      <td>16.60</td>\n",
       "    </tr>\n",
       "    <tr>\n",
       "      <th>397922</th>\n",
       "      <td>581587</td>\n",
       "      <td>23255</td>\n",
       "      <td>CHILDRENS CUTLERY CIRCUS PARADE</td>\n",
       "      <td>4</td>\n",
       "      <td>2011-12-09 12:50:00</td>\n",
       "      <td>4.15</td>\n",
       "      <td>12680</td>\n",
       "      <td>France</td>\n",
       "      <td>16.60</td>\n",
       "    </tr>\n",
       "    <tr>\n",
       "      <th>397923</th>\n",
       "      <td>581587</td>\n",
       "      <td>22138</td>\n",
       "      <td>BAKING SET 9 PIECE RETROSPOT</td>\n",
       "      <td>3</td>\n",
       "      <td>2011-12-09 12:50:00</td>\n",
       "      <td>4.95</td>\n",
       "      <td>12680</td>\n",
       "      <td>France</td>\n",
       "      <td>14.85</td>\n",
       "    </tr>\n",
       "  </tbody>\n",
       "</table>\n",
       "<p>397924 rows × 9 columns</p>\n",
       "</div>"
      ],
      "text/plain": [
       "        InvoiceNo StockCode                          Description  Quantity  \\\n",
       "0          536365    85123A   WHITE HANGING HEART T-LIGHT HOLDER         6   \n",
       "1          536365     71053                  WHITE METAL LANTERN         6   \n",
       "2          536365    84406B       CREAM CUPID HEARTS COAT HANGER         8   \n",
       "3          536365    84029G  KNITTED UNION FLAG HOT WATER BOTTLE         6   \n",
       "4          536365    84029E       RED WOOLLY HOTTIE WHITE HEART.         6   \n",
       "...           ...       ...                                  ...       ...   \n",
       "397919     581587     22613          PACK OF 20 SPACEBOY NAPKINS        12   \n",
       "397920     581587     22899         CHILDREN'S APRON DOLLY GIRL          6   \n",
       "397921     581587     23254        CHILDRENS CUTLERY DOLLY GIRL          4   \n",
       "397922     581587     23255      CHILDRENS CUTLERY CIRCUS PARADE         4   \n",
       "397923     581587     22138        BAKING SET 9 PIECE RETROSPOT          3   \n",
       "\n",
       "               InvoiceDate  UnitPrice  CustomerID         Country  Amount  \n",
       "0      2010-12-01 08:26:00       2.55       17850  United Kingdom   15.30  \n",
       "1      2010-12-01 08:26:00       3.39       17850  United Kingdom   20.34  \n",
       "2      2010-12-01 08:26:00       2.75       17850  United Kingdom   22.00  \n",
       "3      2010-12-01 08:26:00       3.39       17850  United Kingdom   20.34  \n",
       "4      2010-12-01 08:26:00       3.39       17850  United Kingdom   20.34  \n",
       "...                    ...        ...         ...             ...     ...  \n",
       "397919 2011-12-09 12:50:00       0.85       12680          France   10.20  \n",
       "397920 2011-12-09 12:50:00       2.10       12680          France   12.60  \n",
       "397921 2011-12-09 12:50:00       4.15       12680          France   16.60  \n",
       "397922 2011-12-09 12:50:00       4.15       12680          France   16.60  \n",
       "397923 2011-12-09 12:50:00       4.95       12680          France   14.85  \n",
       "\n",
       "[397924 rows x 9 columns]"
      ]
     },
     "execution_count": 146,
     "metadata": {},
     "output_type": "execute_result"
    }
   ],
   "source": [
    "new_df"
   ]
  },
  {
   "cell_type": "code",
   "execution_count": 147,
   "metadata": {},
   "outputs": [
    {
     "data": {
      "text/html": [
       "<div>\n",
       "<style scoped>\n",
       "    .dataframe tbody tr th:only-of-type {\n",
       "        vertical-align: middle;\n",
       "    }\n",
       "\n",
       "    .dataframe tbody tr th {\n",
       "        vertical-align: top;\n",
       "    }\n",
       "\n",
       "    .dataframe thead th {\n",
       "        text-align: right;\n",
       "    }\n",
       "</style>\n",
       "<table border=\"1\" class=\"dataframe\">\n",
       "  <thead>\n",
       "    <tr style=\"text-align: right;\">\n",
       "      <th></th>\n",
       "      <th>InvoiceNo</th>\n",
       "      <th>StockCode</th>\n",
       "      <th>Description</th>\n",
       "      <th>Quantity</th>\n",
       "      <th>InvoiceDate</th>\n",
       "      <th>UnitPrice</th>\n",
       "      <th>CustomerID</th>\n",
       "      <th>Country</th>\n",
       "      <th>Amount</th>\n",
       "    </tr>\n",
       "  </thead>\n",
       "  <tbody>\n",
       "    <tr>\n",
       "      <th>0</th>\n",
       "      <td>536365</td>\n",
       "      <td>85123A</td>\n",
       "      <td>WHITE HANGING HEART T-LIGHT HOLDER</td>\n",
       "      <td>6</td>\n",
       "      <td>2010-12-01 08:26:00</td>\n",
       "      <td>2.55</td>\n",
       "      <td>17850</td>\n",
       "      <td>United Kingdom</td>\n",
       "      <td>15.30</td>\n",
       "    </tr>\n",
       "    <tr>\n",
       "      <th>1</th>\n",
       "      <td>536365</td>\n",
       "      <td>71053</td>\n",
       "      <td>WHITE METAL LANTERN</td>\n",
       "      <td>6</td>\n",
       "      <td>2010-12-01 08:26:00</td>\n",
       "      <td>3.39</td>\n",
       "      <td>17850</td>\n",
       "      <td>United Kingdom</td>\n",
       "      <td>20.34</td>\n",
       "    </tr>\n",
       "    <tr>\n",
       "      <th>2</th>\n",
       "      <td>536365</td>\n",
       "      <td>84406B</td>\n",
       "      <td>CREAM CUPID HEARTS COAT HANGER</td>\n",
       "      <td>8</td>\n",
       "      <td>2010-12-01 08:26:00</td>\n",
       "      <td>2.75</td>\n",
       "      <td>17850</td>\n",
       "      <td>United Kingdom</td>\n",
       "      <td>22.00</td>\n",
       "    </tr>\n",
       "    <tr>\n",
       "      <th>3</th>\n",
       "      <td>536365</td>\n",
       "      <td>84029G</td>\n",
       "      <td>KNITTED UNION FLAG HOT WATER BOTTLE</td>\n",
       "      <td>6</td>\n",
       "      <td>2010-12-01 08:26:00</td>\n",
       "      <td>3.39</td>\n",
       "      <td>17850</td>\n",
       "      <td>United Kingdom</td>\n",
       "      <td>20.34</td>\n",
       "    </tr>\n",
       "    <tr>\n",
       "      <th>4</th>\n",
       "      <td>536365</td>\n",
       "      <td>84029E</td>\n",
       "      <td>RED WOOLLY HOTTIE WHITE HEART.</td>\n",
       "      <td>6</td>\n",
       "      <td>2010-12-01 08:26:00</td>\n",
       "      <td>3.39</td>\n",
       "      <td>17850</td>\n",
       "      <td>United Kingdom</td>\n",
       "      <td>20.34</td>\n",
       "    </tr>\n",
       "    <tr>\n",
       "      <th>...</th>\n",
       "      <td>...</td>\n",
       "      <td>...</td>\n",
       "      <td>...</td>\n",
       "      <td>...</td>\n",
       "      <td>...</td>\n",
       "      <td>...</td>\n",
       "      <td>...</td>\n",
       "      <td>...</td>\n",
       "      <td>...</td>\n",
       "    </tr>\n",
       "    <tr>\n",
       "      <th>397904</th>\n",
       "      <td>581585</td>\n",
       "      <td>22466</td>\n",
       "      <td>FAIRY TALE COTTAGE NIGHT LIGHT</td>\n",
       "      <td>12</td>\n",
       "      <td>2011-12-09 12:31:00</td>\n",
       "      <td>1.95</td>\n",
       "      <td>15804</td>\n",
       "      <td>United Kingdom</td>\n",
       "      <td>23.40</td>\n",
       "    </tr>\n",
       "    <tr>\n",
       "      <th>397905</th>\n",
       "      <td>581586</td>\n",
       "      <td>22061</td>\n",
       "      <td>LARGE CAKE STAND  HANGING STRAWBERY</td>\n",
       "      <td>8</td>\n",
       "      <td>2011-12-09 12:49:00</td>\n",
       "      <td>2.95</td>\n",
       "      <td>13113</td>\n",
       "      <td>United Kingdom</td>\n",
       "      <td>23.60</td>\n",
       "    </tr>\n",
       "    <tr>\n",
       "      <th>397906</th>\n",
       "      <td>581586</td>\n",
       "      <td>23275</td>\n",
       "      <td>SET OF 3 HANGING OWLS OLLIE BEAK</td>\n",
       "      <td>24</td>\n",
       "      <td>2011-12-09 12:49:00</td>\n",
       "      <td>1.25</td>\n",
       "      <td>13113</td>\n",
       "      <td>United Kingdom</td>\n",
       "      <td>30.00</td>\n",
       "    </tr>\n",
       "    <tr>\n",
       "      <th>397907</th>\n",
       "      <td>581586</td>\n",
       "      <td>21217</td>\n",
       "      <td>RED RETROSPOT ROUND CAKE TINS</td>\n",
       "      <td>24</td>\n",
       "      <td>2011-12-09 12:49:00</td>\n",
       "      <td>8.95</td>\n",
       "      <td>13113</td>\n",
       "      <td>United Kingdom</td>\n",
       "      <td>214.80</td>\n",
       "    </tr>\n",
       "    <tr>\n",
       "      <th>397908</th>\n",
       "      <td>581586</td>\n",
       "      <td>20685</td>\n",
       "      <td>DOORMAT RED RETROSPOT</td>\n",
       "      <td>10</td>\n",
       "      <td>2011-12-09 12:49:00</td>\n",
       "      <td>7.08</td>\n",
       "      <td>13113</td>\n",
       "      <td>United Kingdom</td>\n",
       "      <td>70.80</td>\n",
       "    </tr>\n",
       "  </tbody>\n",
       "</table>\n",
       "<p>354345 rows × 9 columns</p>\n",
       "</div>"
      ],
      "text/plain": [
       "        InvoiceNo StockCode                          Description  Quantity  \\\n",
       "0          536365    85123A   WHITE HANGING HEART T-LIGHT HOLDER         6   \n",
       "1          536365     71053                  WHITE METAL LANTERN         6   \n",
       "2          536365    84406B       CREAM CUPID HEARTS COAT HANGER         8   \n",
       "3          536365    84029G  KNITTED UNION FLAG HOT WATER BOTTLE         6   \n",
       "4          536365    84029E       RED WOOLLY HOTTIE WHITE HEART.         6   \n",
       "...           ...       ...                                  ...       ...   \n",
       "397904     581585     22466       FAIRY TALE COTTAGE NIGHT LIGHT        12   \n",
       "397905     581586     22061  LARGE CAKE STAND  HANGING STRAWBERY         8   \n",
       "397906     581586     23275     SET OF 3 HANGING OWLS OLLIE BEAK        24   \n",
       "397907     581586     21217        RED RETROSPOT ROUND CAKE TINS        24   \n",
       "397908     581586     20685                DOORMAT RED RETROSPOT        10   \n",
       "\n",
       "               InvoiceDate  UnitPrice  CustomerID         Country  Amount  \n",
       "0      2010-12-01 08:26:00       2.55       17850  United Kingdom   15.30  \n",
       "1      2010-12-01 08:26:00       3.39       17850  United Kingdom   20.34  \n",
       "2      2010-12-01 08:26:00       2.75       17850  United Kingdom   22.00  \n",
       "3      2010-12-01 08:26:00       3.39       17850  United Kingdom   20.34  \n",
       "4      2010-12-01 08:26:00       3.39       17850  United Kingdom   20.34  \n",
       "...                    ...        ...         ...             ...     ...  \n",
       "397904 2011-12-09 12:31:00       1.95       15804  United Kingdom   23.40  \n",
       "397905 2011-12-09 12:49:00       2.95       13113  United Kingdom   23.60  \n",
       "397906 2011-12-09 12:49:00       1.25       13113  United Kingdom   30.00  \n",
       "397907 2011-12-09 12:49:00       8.95       13113  United Kingdom  214.80  \n",
       "397908 2011-12-09 12:49:00       7.08       13113  United Kingdom   70.80  \n",
       "\n",
       "[354345 rows x 9 columns]"
      ]
     },
     "execution_count": 147,
     "metadata": {},
     "output_type": "execute_result"
    }
   ],
   "source": [
    "#18\n",
    "new_df.loc[new_df['Country'] == 'United Kingdom']\n",
    "\n"
   ]
  },
  {
   "cell_type": "code",
   "execution_count": 148,
   "metadata": {},
   "outputs": [
    {
     "name": "stdout",
     "output_type": "stream",
     "text": [
      "8911407.904\n"
     ]
    }
   ],
   "source": [
    "total_sales = np.sum(new_df['Amount'])\n",
    "print(total_sales)"
   ]
  },
  {
   "cell_type": "code",
   "execution_count": 149,
   "metadata": {},
   "outputs": [
    {
     "name": "stdout",
     "output_type": "stream",
     "text": [
      "7308391.5540030645\n"
     ]
    }
   ],
   "source": [
    "uk_sales = new_df.groupby('Country')['Amount'].sum().loc['United Kingdom']\n",
    "print(uk_sales)"
   ]
  },
  {
   "cell_type": "code",
   "execution_count": 150,
   "metadata": {},
   "outputs": [
    {
     "data": {
      "text/plain": [
       "0.820116375856008"
      ]
     },
     "execution_count": 150,
     "metadata": {},
     "output_type": "execute_result"
    }
   ],
   "source": [
    "uk_sales / total_sales #82.01% are from UK, 17.99% from outside UK"
   ]
  },
  {
   "cell_type": "code",
   "execution_count": 151,
   "metadata": {},
   "outputs": [
    {
     "data": {
      "text/plain": [
       "CustomerID\n",
       "14646    280206.02\n",
       "18102    259657.30\n",
       "17450    194550.79\n",
       "16446    168472.50\n",
       "14911    143825.06\n",
       "12415    124914.53\n",
       "14156    117379.63\n",
       "17511     91062.38\n",
       "16029     81024.84\n",
       "12346     77183.60\n",
       "Name: Amount, dtype: float64"
      ]
     },
     "execution_count": 151,
     "metadata": {},
     "output_type": "execute_result"
    }
   ],
   "source": [
    "#19 \n",
    "new_df.groupby('CustomerID')['Amount'].sum().sort_values(ascending = False).head(10)"
   ]
  },
  {
   "cell_type": "code",
   "execution_count": 152,
   "metadata": {},
   "outputs": [],
   "source": [
    "topten_sales = np.sum(new_df.groupby('CustomerID')['Amount'].sum().sort_values(ascending = False).head(10))"
   ]
  },
  {
   "cell_type": "code",
   "execution_count": 153,
   "metadata": {},
   "outputs": [
    {
     "data": {
      "text/plain": [
       "0.1726188124897216"
      ]
     },
     "execution_count": 153,
     "metadata": {},
     "output_type": "execute_result"
    }
   ],
   "source": [
    "topten_sales / total_sales #17.26% of Sales are from the Top 10 Customers"
   ]
  },
  {
   "cell_type": "code",
   "execution_count": null,
   "metadata": {},
   "outputs": [],
   "source": []
  },
  {
   "cell_type": "code",
   "execution_count": 154,
   "metadata": {},
   "outputs": [
    {
     "data": {
      "text/plain": [
       "Description\n",
       "PAPER CRAFT , LITTLE BIRDIE           168469.60\n",
       "REGENCY CAKESTAND 3 TIER              142592.95\n",
       "WHITE HANGING HEART T-LIGHT HOLDER    100603.50\n",
       "JUMBO BAG RED RETROSPOT                85220.78\n",
       "MEDIUM CERAMIC TOP STORAGE JAR         81416.73\n",
       "POSTAGE                                77803.96\n",
       "PARTY BUNTING                          68844.33\n",
       "ASSORTED COLOUR BIRD ORNAMENT          56580.34\n",
       "Manual                                 53779.93\n",
       "RABBIT NIGHT LIGHT                     51346.20\n",
       "Name: Amount, dtype: float64"
      ]
     },
     "execution_count": 154,
     "metadata": {},
     "output_type": "execute_result"
    }
   ],
   "source": [
    "#20\n",
    "new_df.groupby('Description')['Amount'].sum().sort_values(ascending = False).head(10)"
   ]
  },
  {
   "cell_type": "code",
   "execution_count": 155,
   "metadata": {},
   "outputs": [],
   "source": [
    "topten_products = np.sum(new_df.groupby('Description')['Amount'].sum().sort_values(ascending = False).head(10))"
   ]
  },
  {
   "cell_type": "code",
   "execution_count": 156,
   "metadata": {},
   "outputs": [
    {
     "data": {
      "text/plain": [
       "0.09949699638392855"
      ]
     },
     "execution_count": 156,
     "metadata": {},
     "output_type": "execute_result"
    }
   ],
   "source": [
    "topten_products / total_sales "
   ]
  },
  {
   "cell_type": "code",
   "execution_count": 123,
   "metadata": {},
   "outputs": [
    {
     "name": "stdout",
     "output_type": "stream",
     "text": [
      "<class 'pandas.core.frame.DataFrame'>\n",
      "RangeIndex: 397884 entries, 0 to 397883\n",
      "Data columns (total 9 columns):\n",
      " #   Column       Non-Null Count   Dtype         \n",
      "---  ------       --------------   -----         \n",
      " 0   InvoiceNo    397884 non-null  int64         \n",
      " 1   StockCode    397884 non-null  object        \n",
      " 2   Description  397884 non-null  object        \n",
      " 3   Quantity     397884 non-null  int64         \n",
      " 4   InvoiceDate  397884 non-null  datetime64[ns]\n",
      " 5   UnitPrice    397884 non-null  float64       \n",
      " 6   CustomerID   397884 non-null  int64         \n",
      " 7   Country      397884 non-null  object        \n",
      " 8   Amount       397884 non-null  float64       \n",
      "dtypes: datetime64[ns](1), float64(2), int64(3), object(3)\n",
      "memory usage: 27.3+ MB\n"
     ]
    }
   ],
   "source": [
    "new_df.info()"
   ]
  },
  {
   "cell_type": "code",
   "execution_count": 125,
   "metadata": {},
   "outputs": [
    {
     "data": {
      "text/plain": [
       "(397884, 9)"
      ]
     },
     "execution_count": 125,
     "metadata": {},
     "output_type": "execute_result"
    }
   ],
   "source": [
    "new_df.shape"
   ]
  },
  {
   "cell_type": "code",
   "execution_count": 157,
   "metadata": {},
   "outputs": [],
   "source": [
    "new_df.to_csv('new_df.csv')"
   ]
  },
  {
   "cell_type": "code",
   "execution_count": null,
   "metadata": {},
   "outputs": [],
   "source": []
  }
 ],
 "metadata": {
  "kernelspec": {
   "display_name": "Python 3",
   "language": "python",
   "name": "python3"
  },
  "language_info": {
   "codemirror_mode": {
    "name": "ipython",
    "version": 3
   },
   "file_extension": ".py",
   "mimetype": "text/x-python",
   "name": "python",
   "nbconvert_exporter": "python",
   "pygments_lexer": "ipython3",
   "version": "3.8.3"
  }
 },
 "nbformat": 4,
 "nbformat_minor": 4
}
